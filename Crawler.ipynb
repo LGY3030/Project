{
 "cells": [
  {
   "cell_type": "code",
   "execution_count": 18,
   "metadata": {},
   "outputs": [],
   "source": [
    "from urllib.request import urlopen\n",
    "import json\n",
    "import pandas as pd"
   ]
  },
  {
   "cell_type": "code",
   "execution_count": 17,
   "metadata": {},
   "outputs": [
    {
     "name": "stdout",
     "output_type": "stream",
     "text": [
      "107.11.11\n"
     ]
    }
   ],
   "source": [
    "#def getdata():\n",
    "name=[\"date\",\"crop_num\",\"crop_name\",\"market_num\",\"market_name\",\"high\",\"medium\",\"low\",\"mean\",\"volume\"]\n",
    "url=\"https://data.coa.gov.tw/Service/OpenData/FromM/FarmTransData.aspx?$top=1000&$skip=0&Crop=%E6%A4%B0%E5%AD%90&StartDate=107.02.01&EndDate=107.11.29&Market=%E5%8F%B0%E5%8C%97%E4%BA%8C\"\n",
    "data = json.loads(urlopen(url).read())\n",
    "a=data[20]['交易日期']\n",
    "print(a)"
   ]
  },
  {
   "cell_type": "code",
   "execution_count": null,
   "metadata": {},
   "outputs": [],
   "source": [
    "    \"交易日期\": \"108.01.25\",\n",
    "    \"作物代號\": \"IC408\",\n",
    "    \"作物名稱\": \"進口大菊-粉乒乓\",\n",
    "    \"市場代號\": \"105\",\n",
    "    \"市場名稱\": \"台北市場\",\n",
    "    \"上價\": 185.0,\n",
    "    \"中價\": 185.0,\n",
    "    \"下價\": 185.0,\n",
    "    \"平均價\": 185.0,\n",
    "    \"交易量\": 24.0"
   ]
  }
 ],
 "metadata": {
  "kernelspec": {
   "display_name": "Python 3",
   "language": "python",
   "name": "python3"
  },
  "language_info": {
   "codemirror_mode": {
    "name": "ipython",
    "version": 3
   },
   "file_extension": ".py",
   "mimetype": "text/x-python",
   "name": "python",
   "nbconvert_exporter": "python",
   "pygments_lexer": "ipython3",
   "version": "3.7.0"
  }
 },
 "nbformat": 4,
 "nbformat_minor": 2
}
