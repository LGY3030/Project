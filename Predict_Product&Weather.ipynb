{
 "cells": [
  {
   "cell_type": "code",
   "execution_count": 17,
   "metadata": {},
   "outputs": [],
   "source": [
    "import pandas as pd\n",
    "import numpy as np\n",
    "import keras\n",
    "from keras.models import Sequential\n",
    "from keras.layers import Dense,LSTM,Dropout,Activation\n",
    "from keras.optimizers import Adam\n",
    "from keras.callbacks import EarlyStopping\n",
    "from sklearn.utils import shuffle\n",
    "from sklearn.metrics import mean_squared_error\n",
    "import matplotlib.pyplot as plt"
   ]
  },
  {
   "cell_type": "code",
   "execution_count": null,
   "metadata": {},
   "outputs": [],
   "source": [
    "train=pd.read_csv(r\"C:\\Users\\admin\\Desktop\\Project\\data\\台北一\\蔬果\\奇異果-進口.csv\")\n",
    "weather=pd.read_csv(r\"C:\\Users\\admin\\Desktop\\Project\\data\\台北一\\氣象資料\\氣象資料.csv\")\n",
    "weather=weather.drop([\"Unnamed: 0\"], axis=1)\n",
    "weather=weather.drop([\"一小時最大降水量(mm)\"], axis=1)\n",
    "weather=weather.drop([\"10分鐘最大降水起始時間(LST)\"], axis=1)\n",
    "weather=weather.drop([\"10分鐘最大降水量(mm)\"], axis=1)\n",
    "weather=weather.drop([\" 一小時最大降水量(mm)\"], axis=1)\n",
    "weather=weather.drop([\"一小時最大降水量起始時間(LST)\"], axis=1)\n",
    "weather=weather.drop([\"日最高紫外線指數時間(LST)\"], axis=1)\n",
    "weather=weather.drop([\"最低氣溫時間(LST)\"], axis=1)\n",
    "weather=weather.drop([\"最大陣風風速時間(LST)\"], axis=1)\n",
    "weather=weather.drop([\"最小相對溼度時間(LST)\"], axis=1)\n",
    "weather=weather.drop([\"最高氣溫時間(LST)\"], axis=1)\n",
    "weather=weather.drop([\"測站最低氣壓時間(LST)\"], axis=1)\n",
    "weather=weather.drop([\"測站最高氣壓時間(LST)\"], axis=1)\n",
    "weather=weather.drop([\"降水量(mm)\"], axis=1)\n",
    "a=0\n",
    "b=0\n",
    "c=weather.shape[0]\n",
    "for i in range(0,train.shape[0]):\n",
    "    for j in range(0,c):\n",
    "        if all([train[\"year\"][i]==weather[\"year\"][j] , train[\"month\"][i]==weather[\"month\"][j] , train[\"day\"][i]==weather[\"day\"][j]]):\n",
    "            a=a+1\n",
    "            b=b+1\n",
    "            #weather=weather.drop(weather.index[:b])\n",
    "            break\n",
    "        else:\n",
    "            b=b+1\n",
    "print(a)"
   ]
  },
  {
   "cell_type": "code",
   "execution_count": null,
   "metadata": {},
   "outputs": [],
   "source": []
  }
 ],
 "metadata": {
  "kernelspec": {
   "display_name": "Python 3",
   "language": "python",
   "name": "python3"
  },
  "language_info": {
   "codemirror_mode": {
    "name": "ipython",
    "version": 3
   },
   "file_extension": ".py",
   "mimetype": "text/x-python",
   "name": "python",
   "nbconvert_exporter": "python",
   "pygments_lexer": "ipython3",
   "version": "3.5.5"
  }
 },
 "nbformat": 4,
 "nbformat_minor": 2
}
