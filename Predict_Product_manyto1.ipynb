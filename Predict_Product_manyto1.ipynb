{
 "cells": [
  {
   "cell_type": "code",
   "execution_count": 24,
   "metadata": {},
   "outputs": [],
   "source": [
    "import pandas as pd\n",
    "import numpy as np\n",
    "import keras\n",
    "from keras.models import Sequential\n",
    "from keras.layers import Dense,LSTM,Dropout,Activation\n",
    "from keras.optimizers import Adam\n",
    "from keras.callbacks import EarlyStopping\n",
    "from sklearn.utils import shuffle\n",
    "from sklearn.metrics import mean_squared_error\n",
    "import matplotlib.pyplot as plt"
   ]
  },
  {
   "cell_type": "code",
   "execution_count": 25,
   "metadata": {},
   "outputs": [],
   "source": [
    "def buildTrain(train, pastDay=5, futureDay=1):\n",
    "    X_train, Y_train ,Z_train= [], [],[]\n",
    "    for i in range(train.shape[0]-futureDay-pastDay+1):\n",
    "        X_train.append(np.array(train.iloc[i:i+pastDay]))\n",
    "        Y_train.append(np.array(train.iloc[i+pastDay:i+pastDay+futureDay][\"high\"]))\n",
    "        Z_train.append(np.array(train.iloc[i+pastDay-1:i+pastDay+futureDay-1][\"high\"]))\n",
    "    return np.array(X_train), np.array(Y_train), np.array(Z_train)\n",
    "def shuffle(X,Y,Z):\n",
    "    np.random.seed()\n",
    "    randomList = np.arange(X.shape[0])\n",
    "    np.random.shuffle(randomList)\n",
    "    return X[randomList], Y[randomList],Z[randomList]\n",
    "def splitData(X,Y,Z,rate):\n",
    "    X_train = X[int(X.shape[0]*rate):]\n",
    "    Y_train = Y[int(Y.shape[0]*rate):]\n",
    "    X_val = X[:int(X.shape[0]*rate)]\n",
    "    Y_val = Y[:int(Y.shape[0]*rate)]\n",
    "    Z_val = Z[:int(Z.shape[0]*rate)]\n",
    "    return X_train, Y_train, X_val, Y_val,Z_val"
   ]
  },
  {
   "cell_type": "code",
   "execution_count": 26,
   "metadata": {},
   "outputs": [],
   "source": [
    "train = pd.read_csv(r\"C:\\Users\\admin\\Desktop\\Project\\data\\台北一\\蔬果\\奇異果-進口.csv\")\n",
    "train=train.drop([\"Unnamed: 0\"], axis=1)\n",
    "train=train.drop([\"crop_name\"], axis=1)\n",
    "train=train.drop([\"crop_num\"], axis=1)\n",
    "train=train.drop([\"market_name\"], axis=1)\n",
    "train=train.drop([\"market_num\"], axis=1)\n",
    "temp=train\n",
    "train= train.apply(lambda x: (x - np.mean(x)) / (np.max(x) - np.min(x)))\n",
    "train_x1,train_y1,train_z1=buildTrain(train)\n",
    "train_x2,train_y2,train_z2=buildTrain(temp)\n",
    "train_x,train_y,train_z=train_x1,train_y2,train_z2\n",
    "train_x,train_y,train_z= shuffle(train_x,train_y,train_z)\n",
    "train_x,train_y, val_x, val_y ,val_z= splitData(train_x,train_y,train_z, 0.075)"
   ]
  },
  {
   "cell_type": "code",
   "execution_count": 27,
   "metadata": {},
   "outputs": [
    {
     "name": "stderr",
     "output_type": "stream",
     "text": [
      "C:\\Users\\admin\\Anaconda3\\envs\\tensorflow\\lib\\site-packages\\ipykernel_launcher.py:2: UserWarning: The `input_dim` and `input_length` arguments in recurrent layers are deprecated. Use `input_shape` instead.\n",
      "  \n",
      "C:\\Users\\admin\\Anaconda3\\envs\\tensorflow\\lib\\site-packages\\ipykernel_launcher.py:2: UserWarning: Update your `LSTM` call to the Keras 2 API: `LSTM(150, return_sequences=True, input_shape=(5, 9))`\n",
      "  \n"
     ]
    },
    {
     "name": "stdout",
     "output_type": "stream",
     "text": [
      "_________________________________________________________________\n",
      "Layer (type)                 Output Shape              Param #   \n",
      "=================================================================\n",
      "lstm_7 (LSTM)                (None, 5, 150)            96000     \n",
      "_________________________________________________________________\n",
      "dropout_7 (Dropout)          (None, 5, 150)            0         \n",
      "_________________________________________________________________\n",
      "lstm_8 (LSTM)                (None, 50)                40200     \n",
      "_________________________________________________________________\n",
      "dropout_8 (Dropout)          (None, 50)                0         \n",
      "_________________________________________________________________\n",
      "dense_4 (Dense)              (None, 1)                 51        \n",
      "_________________________________________________________________\n",
      "activation_4 (Activation)    (None, 1)                 0         \n",
      "=================================================================\n",
      "Total params: 136,251\n",
      "Trainable params: 136,251\n",
      "Non-trainable params: 0\n",
      "_________________________________________________________________\n",
      "Train on 1776 samples, validate on 198 samples\n",
      "Epoch 1/300\n",
      "1776/1776 [==============================] - 2s 1ms/step - loss: 11027.9152 - val_loss: 9124.6472\n",
      "Epoch 2/300\n",
      "1776/1776 [==============================] - 1s 428us/step - loss: 9224.8433 - val_loss: 8062.8317\n",
      "Epoch 3/300\n",
      "1776/1776 [==============================] - 1s 425us/step - loss: 8232.8096 - val_loss: 7151.2874\n",
      "Epoch 4/300\n",
      "1776/1776 [==============================] - 1s 426us/step - loss: 7374.1189 - val_loss: 6345.5595\n",
      "Epoch 5/300\n",
      "1776/1776 [==============================] - 1s 424us/step - loss: 6595.8349 - val_loss: 5623.0406\n",
      "Epoch 6/300\n",
      "1776/1776 [==============================] - 1s 425us/step - loss: 5934.0928 - val_loss: 4980.9675\n",
      "Epoch 7/300\n",
      "1776/1776 [==============================] - 1s 426us/step - loss: 5291.3047 - val_loss: 4402.6378\n",
      "Epoch 8/300\n",
      "1776/1776 [==============================] - 1s 429us/step - loss: 4727.6663 - val_loss: 3887.3734\n",
      "Epoch 9/300\n",
      "1776/1776 [==============================] - 1s 431us/step - loss: 4250.6026 - val_loss: 3431.4889\n",
      "Epoch 10/300\n",
      "1776/1776 [==============================] - 1s 430us/step - loss: 3812.3442 - val_loss: 3027.9757\n",
      "Epoch 11/300\n",
      "1776/1776 [==============================] - 1s 429us/step - loss: 3407.3665 - val_loss: 2672.4365\n",
      "Epoch 12/300\n",
      "1776/1776 [==============================] - 1s 426us/step - loss: 3076.3960 - val_loss: 2364.0196\n",
      "Epoch 13/300\n",
      "1776/1776 [==============================] - 1s 429us/step - loss: 2835.0887 - val_loss: 2089.6360\n",
      "Epoch 14/300\n",
      "1776/1776 [==============================] - 1s 431us/step - loss: 2518.1708 - val_loss: 1857.0751\n",
      "Epoch 15/300\n",
      "1776/1776 [==============================] - 1s 427us/step - loss: 2339.8124 - val_loss: 1656.1017\n",
      "Epoch 16/300\n",
      "1776/1776 [==============================] - 1s 430us/step - loss: 2157.4610 - val_loss: 1486.5712\n",
      "Epoch 17/300\n",
      "1776/1776 [==============================] - 1s 425us/step - loss: 1976.4508 - val_loss: 1342.0344\n",
      "Epoch 18/300\n",
      "1776/1776 [==============================] - 1s 428us/step - loss: 1855.4539 - val_loss: 1222.1752\n",
      "Epoch 19/300\n",
      "1776/1776 [==============================] - 1s 425us/step - loss: 1724.4203 - val_loss: 1121.5170\n",
      "Epoch 20/300\n",
      "1776/1776 [==============================] - 1s 426us/step - loss: 1656.9838 - val_loss: 1041.5259\n",
      "Epoch 21/300\n",
      "1776/1776 [==============================] - 1s 428us/step - loss: 1543.8683 - val_loss: 975.1591\n",
      "Epoch 22/300\n",
      "1776/1776 [==============================] - 1s 429us/step - loss: 1483.9648 - val_loss: 922.5334\n",
      "Epoch 23/300\n",
      "1776/1776 [==============================] - 1s 430us/step - loss: 1468.9414 - val_loss: 881.6002\n",
      "Epoch 24/300\n",
      "1776/1776 [==============================] - 1s 433us/step - loss: 1360.8558 - val_loss: 848.4476\n",
      "Epoch 25/300\n",
      "1776/1776 [==============================] - 1s 429us/step - loss: 1371.1955 - val_loss: 824.3405\n",
      "Epoch 26/300\n",
      "1776/1776 [==============================] - 1s 428us/step - loss: 1344.1746 - val_loss: 807.6295\n",
      "Epoch 27/300\n",
      "1776/1776 [==============================] - 1s 433us/step - loss: 1341.9984 - val_loss: 794.6880\n",
      "Epoch 28/300\n",
      "1776/1776 [==============================] - 1s 429us/step - loss: 1372.7001 - val_loss: 784.8816\n",
      "Epoch 29/300\n",
      "1776/1776 [==============================] - 1s 430us/step - loss: 1335.1324 - val_loss: 777.7752\n",
      "Epoch 30/300\n",
      "1776/1776 [==============================] - 1s 427us/step - loss: 1350.3995 - val_loss: 772.7613\n",
      "Epoch 31/300\n",
      "1776/1776 [==============================] - 1s 426us/step - loss: 1341.1189 - val_loss: 769.6286\n",
      "Epoch 32/300\n",
      "1776/1776 [==============================] - 1s 428us/step - loss: 1319.3545 - val_loss: 841.6339\n",
      "Epoch 33/300\n",
      "1776/1776 [==============================] - 1s 428us/step - loss: 1335.1201 - val_loss: 765.7507\n",
      "Epoch 34/300\n",
      "1776/1776 [==============================] - 1s 428us/step - loss: 1329.8143 - val_loss: 764.8095\n",
      "Epoch 35/300\n",
      "1776/1776 [==============================] - 1s 429us/step - loss: 1292.2695 - val_loss: 758.4856\n",
      "Epoch 36/300\n",
      "1776/1776 [==============================] - 1s 428us/step - loss: 1313.1000 - val_loss: 753.5259\n",
      "Epoch 37/300\n",
      "1776/1776 [==============================] - 1s 426us/step - loss: 1271.4442 - val_loss: 752.2253\n",
      "Epoch 38/300\n",
      "1776/1776 [==============================] - 1s 427us/step - loss: 1277.3231 - val_loss: 714.0615\n",
      "Epoch 39/300\n",
      "1776/1776 [==============================] - 1s 429us/step - loss: 1240.8944 - val_loss: 652.8566\n",
      "Epoch 40/300\n",
      "1776/1776 [==============================] - 1s 430us/step - loss: 1161.3397 - val_loss: 609.6105\n",
      "Epoch 41/300\n",
      "1776/1776 [==============================] - 1s 427us/step - loss: 1155.4693 - val_loss: 594.5732\n",
      "Epoch 42/300\n",
      "1776/1776 [==============================] - 1s 425us/step - loss: 1112.4831 - val_loss: 597.3557\n",
      "Epoch 43/300\n",
      "1776/1776 [==============================] - 1s 427us/step - loss: 1066.5679 - val_loss: 542.2549\n",
      "Epoch 44/300\n",
      "1776/1776 [==============================] - 1s 428us/step - loss: 1082.3574 - val_loss: 533.2350\n",
      "Epoch 45/300\n",
      "1776/1776 [==============================] - 1s 426us/step - loss: 1062.3913 - val_loss: 536.1025\n",
      "Epoch 46/300\n",
      "1776/1776 [==============================] - 1s 428us/step - loss: 1041.9769 - val_loss: 516.7270\n",
      "Epoch 47/300\n",
      "1776/1776 [==============================] - 1s 429us/step - loss: 1084.1644 - val_loss: 508.0414\n",
      "Epoch 48/300\n",
      "1776/1776 [==============================] - 1s 430us/step - loss: 1040.7268 - val_loss: 536.7684\n",
      "Epoch 49/300\n",
      "1776/1776 [==============================] - 1s 429us/step - loss: 1074.7238 - val_loss: 504.3651\n",
      "Epoch 50/300\n",
      "1776/1776 [==============================] - 1s 427us/step - loss: 1041.3098 - val_loss: 499.3436\n",
      "Epoch 51/300\n",
      "1776/1776 [==============================] - 1s 428us/step - loss: 1005.3136 - val_loss: 493.9824\n",
      "Epoch 52/300\n",
      "1776/1776 [==============================] - 1s 428us/step - loss: 1017.2890 - val_loss: 492.9278\n",
      "Epoch 53/300\n",
      "1776/1776 [==============================] - 1s 429us/step - loss: 1030.6167 - val_loss: 482.9655\n",
      "Epoch 54/300\n",
      "1776/1776 [==============================] - 1s 428us/step - loss: 993.9729 - val_loss: 479.9558\n",
      "Epoch 55/300\n",
      "1776/1776 [==============================] - 1s 428us/step - loss: 1000.1496 - val_loss: 475.6296\n",
      "Epoch 56/300\n",
      "1776/1776 [==============================] - 1s 429us/step - loss: 966.2374 - val_loss: 467.7358\n",
      "Epoch 57/300\n",
      "1776/1776 [==============================] - 1s 430us/step - loss: 1011.1086 - val_loss: 472.7238\n",
      "Epoch 58/300\n",
      "1776/1776 [==============================] - 1s 427us/step - loss: 980.5826 - val_loss: 479.4645\n",
      "Epoch 59/300\n",
      "1776/1776 [==============================] - 1s 429us/step - loss: 940.0327 - val_loss: 476.0890\n",
      "Epoch 60/300\n",
      "1776/1776 [==============================] - 1s 431us/step - loss: 992.2981 - val_loss: 467.1149\n",
      "Epoch 61/300\n",
      "1776/1776 [==============================] - 1s 432us/step - loss: 940.4420 - val_loss: 471.6810\n",
      "Epoch 62/300\n",
      "1776/1776 [==============================] - 1s 434us/step - loss: 951.9877 - val_loss: 469.1047\n",
      "Epoch 63/300\n",
      "1776/1776 [==============================] - 1s 432us/step - loss: 950.8030 - val_loss: 501.4727\n",
      "Epoch 64/300\n"
     ]
    },
    {
     "name": "stdout",
     "output_type": "stream",
     "text": [
      "1776/1776 [==============================] - 1s 427us/step - loss: 966.2519 - val_loss: 461.6621\n",
      "Epoch 65/300\n",
      "1776/1776 [==============================] - 1s 436us/step - loss: 972.8723 - val_loss: 456.7076\n",
      "Epoch 66/300\n",
      "1776/1776 [==============================] - 1s 456us/step - loss: 981.0197 - val_loss: 465.1451\n",
      "Epoch 67/300\n",
      "1776/1776 [==============================] - 1s 453us/step - loss: 955.5088 - val_loss: 458.1410\n",
      "Epoch 68/300\n",
      "1776/1776 [==============================] - 1s 455us/step - loss: 954.5004 - val_loss: 483.2107\n",
      "Epoch 69/300\n",
      "1776/1776 [==============================] - 1s 450us/step - loss: 958.9477 - val_loss: 464.8212\n",
      "Epoch 00069: early stopping\n"
     ]
    },
    {
     "data": {
      "text/plain": [
       "<keras.callbacks.History at 0x2a51533cf8>"
      ]
     },
     "execution_count": 27,
     "metadata": {},
     "output_type": "execute_result"
    }
   ],
   "source": [
    "model = Sequential()\n",
    "model.add(LSTM(150, input_length=train_x.shape[1],input_dim= train_x.shape[2],return_sequences=True))\n",
    "model.add(Dropout(0.35))\n",
    "model.add(LSTM(50))\n",
    "model.add(Dropout(0.35))\n",
    "model.add(Dense(1))\n",
    "model.add(Activation('linear'))\n",
    "model.compile(loss='mean_squared_error', optimizer='adam')\n",
    "model.summary()\n",
    "callback = EarlyStopping(monitor=\"loss\", patience=10, verbose=1, mode=\"auto\")\n",
    "model.fit(train_x,train_y, epochs=300, batch_size=16, validation_split=0.1, callbacks=[callback])"
   ]
  },
  {
   "cell_type": "code",
   "execution_count": 28,
   "metadata": {},
   "outputs": [
    {
     "name": "stdout",
     "output_type": "stream",
     "text": [
      "accuracy:59.375%\n",
      "accuracy(50%):25.624999999999996%\n"
     ]
    },
    {
     "data": {
      "image/png": "[encoded data removed]",
      "text/plain": [
       "<Figure size 432x288 with 1 Axes>"
      ]
     },
     "metadata": {},
     "output_type": "display_data"
    }
   ],
   "source": [
    "a=range(0,val_y.shape[0])\n",
    "val_y=val_y.reshape(-1)\n",
    "val_z=val_z.reshape(-1)\n",
    "plt.plot(a,val_y)\n",
    "b=[]\n",
    "co=0\n",
    "coo=0\n",
    "for i in range(0,val_x.shape[0]):\n",
    "    temp=val_x[i]\n",
    "    temp=temp.reshape(1,5,9)\n",
    "    z=model.predict(temp, verbose=0)\n",
    "    if val_y[i]>=val_z[i] and z>=val_z[i]:\n",
    "        co=co+1\n",
    "    if val_y[i]<val_z[i] and z<val_z[i]:\n",
    "        co=co+1\n",
    "    sub=val_y[i]-val_z[i]\n",
    "    sub_a=0.5*sub+val_z[i]\n",
    "    sub_b=1.5*sub+val_z[i]\n",
    "    sub2=val_z[i]-val_y[i]\n",
    "    sub2_a=val_z[i]-0.5*sub2\n",
    "    sub2_b=val_z[i]-1.5*sub2\n",
    "    if val_y[i]>=val_z[i] and z>=val_z[i]:\n",
    "        if z>=sub_a and z<=sub_b:\n",
    "            coo=coo+1\n",
    "    if val_y[i]<val_z[i] and z<val_z[i]:\n",
    "        if z<=sub2_a and z>=sub2_b:\n",
    "            coo=coo+1\n",
    "    b.append(z)\n",
    "b=np.array(b)\n",
    "b=b.reshape(-1)\n",
    "plt.plot(a,b)\n",
    "acc=100*(co/val_x.shape[0])\n",
    "print(\"accuracy:\"+str(acc)+\"%\")\n",
    "acc2=100*(coo/val_x.shape[0])\n",
    "print(\"accuracy(50%):\"+str(acc2)+\"%\")\n",
    "plt.show()"
   ]
  },
  {
   "cell_type": "code",
   "execution_count": 17,
   "metadata": {},
   "outputs": [
    {
     "name": "stdout",
     "output_type": "stream",
     "text": [
      "(1, 10, 9)\n"
     ]
    }
   ],
   "source": [
    "print(temp.shape)"
   ]
  },
  {
   "cell_type": "code",
   "execution_count": 21,
   "metadata": {},
   "outputs": [
    {
     "name": "stdout",
     "output_type": "stream",
     "text": [
      "(1970, 10, 9)\n",
      "(1970, 1)\n",
      "(159, 10, 9)\n",
      "(159,)\n",
      "(159,)\n"
     ]
    }
   ],
   "source": [
    "print(train_x.shape)\n",
    "print(train_y.shape)\n",
    "print(val_x.shape)\n",
    "print(val_y.shape)\n",
    "print(val_z.shape)"
   ]
  },
  {
   "cell_type": "code",
   "execution_count": null,
   "metadata": {},
   "outputs": [],
   "source": []
  }
 ],
 "metadata": {
  "kernelspec": {
   "display_name": "Python 3",
   "language": "python",
   "name": "python3"
  },
  "language_info": {
   "codemirror_mode": {
    "name": "ipython",
    "version": 3
   },
   "file_extension": ".py",
   "mimetype": "text/x-python",
   "name": "python",
   "nbconvert_exporter": "python",
   "pygments_lexer": "ipython3",
   "version": "3.5.5"
  }
 },
 "nbformat": 4,
 "nbformat_minor": 2
}
