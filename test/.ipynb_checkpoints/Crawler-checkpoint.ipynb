{
 "cells": [
  {
   "cell_type": "code",
   "execution_count": 2,
   "metadata": {},
   "outputs": [],
   "source": [
    "from urllib.request import urlopen\n",
    "from bs4 import BeautifulSoup\n",
    "import pandas as pd\n",
    "import json\n",
    "import requests\n",
    "import urllib\n",
    "import time\n",
    "import csv\n",
    "import os"
   ]
  },
  {
   "cell_type": "code",
   "execution_count": 3,
   "metadata": {},
   "outputs": [
    {
     "ename": "TypeError",
     "evalue": "the JSON object must be str, not 'bytes'",
     "output_type": "error",
     "traceback": [
      "\u001b[1;31m---------------------------------------------------------------------------\u001b[0m",
      "\u001b[1;31mTypeError\u001b[0m                                 Traceback (most recent call last)",
      "\u001b[1;32m<ipython-input-3-dc1d8c7681cf>\u001b[0m in \u001b[0;36m<module>\u001b[1;34m()\u001b[0m\n\u001b[0;32m     10\u001b[0m         \u001b[1;32mfor\u001b[0m \u001b[0mj\u001b[0m \u001b[1;32min\u001b[0m \u001b[0mrange\u001b[0m\u001b[1;33m(\u001b[0m\u001b[1;36m0\u001b[0m\u001b[1;33m,\u001b[0m\u001b[1;36m1000\u001b[0m\u001b[1;33m)\u001b[0m\u001b[1;33m:\u001b[0m\u001b[1;33m\u001b[0m\u001b[0m\n\u001b[0;32m     11\u001b[0m             \u001b[0murl\u001b[0m\u001b[1;33m=\u001b[0m\u001b[1;34m\"https://data.coa.gov.tw/Service/OpenData/FromM/FarmTransData.aspx?$top=1000&$skip=\"\u001b[0m\u001b[1;33m+\u001b[0m\u001b[0mstr\u001b[0m\u001b[1;33m(\u001b[0m\u001b[0mskip_num\u001b[0m\u001b[1;33m)\u001b[0m\u001b[1;33m+\u001b[0m\u001b[1;34m\"&Crop=\"\u001b[0m\u001b[1;33m+\u001b[0m\u001b[0murllib\u001b[0m\u001b[1;33m.\u001b[0m\u001b[0mparse\u001b[0m\u001b[1;33m.\u001b[0m\u001b[0mquote\u001b[0m\u001b[1;33m(\u001b[0m\u001b[0mcrop_name\u001b[0m\u001b[1;33m[\u001b[0m\u001b[0mb\u001b[0m\u001b[1;33m]\u001b[0m\u001b[1;33m)\u001b[0m\u001b[1;33m+\u001b[0m\u001b[1;34m\"&StartDate=101.01.01&EndDate=108.02.08&Market=\"\u001b[0m\u001b[1;33m+\u001b[0m\u001b[0murllib\u001b[0m\u001b[1;33m.\u001b[0m\u001b[0mparse\u001b[0m\u001b[1;33m.\u001b[0m\u001b[0mquote\u001b[0m\u001b[1;33m(\u001b[0m\u001b[0ma\u001b[0m\u001b[1;33m)\u001b[0m\u001b[1;33m\u001b[0m\u001b[0m\n\u001b[1;32m---> 12\u001b[1;33m             \u001b[0mget\u001b[0m \u001b[1;33m=\u001b[0m \u001b[0mjson\u001b[0m\u001b[1;33m.\u001b[0m\u001b[0mloads\u001b[0m\u001b[1;33m(\u001b[0m\u001b[0murlopen\u001b[0m\u001b[1;33m(\u001b[0m\u001b[0murl\u001b[0m\u001b[1;33m)\u001b[0m\u001b[1;33m.\u001b[0m\u001b[0mread\u001b[0m\u001b[1;33m(\u001b[0m\u001b[1;33m)\u001b[0m\u001b[1;33m)\u001b[0m\u001b[1;33m\u001b[0m\u001b[0m\n\u001b[0m\u001b[0;32m     13\u001b[0m             \u001b[0mdata\u001b[0m \u001b[1;33m=\u001b[0m \u001b[1;33m[\u001b[0m\u001b[1;33m]\u001b[0m\u001b[1;33m\u001b[0m\u001b[0m\n\u001b[0;32m     14\u001b[0m             \u001b[1;32mfor\u001b[0m \u001b[0mi\u001b[0m \u001b[1;32min\u001b[0m \u001b[0mrange\u001b[0m\u001b[1;33m(\u001b[0m\u001b[1;36m0\u001b[0m\u001b[1;33m,\u001b[0m\u001b[0mlen\u001b[0m\u001b[1;33m(\u001b[0m\u001b[0mget\u001b[0m\u001b[1;33m)\u001b[0m\u001b[1;33m)\u001b[0m\u001b[1;33m:\u001b[0m\u001b[1;33m\u001b[0m\u001b[0m\n",
      "\u001b[1;32m~\\Anaconda3\\envs\\tensorflow\\lib\\json\\__init__.py\u001b[0m in \u001b[0;36mloads\u001b[1;34m(s, encoding, cls, object_hook, parse_float, parse_int, parse_constant, object_pairs_hook, **kw)\u001b[0m\n\u001b[0;32m    310\u001b[0m     \u001b[1;32mif\u001b[0m \u001b[1;32mnot\u001b[0m \u001b[0misinstance\u001b[0m\u001b[1;33m(\u001b[0m\u001b[0ms\u001b[0m\u001b[1;33m,\u001b[0m \u001b[0mstr\u001b[0m\u001b[1;33m)\u001b[0m\u001b[1;33m:\u001b[0m\u001b[1;33m\u001b[0m\u001b[0m\n\u001b[0;32m    311\u001b[0m         raise TypeError('the JSON object must be str, not {!r}'.format(\n\u001b[1;32m--> 312\u001b[1;33m                             s.__class__.__name__))\n\u001b[0m\u001b[0;32m    313\u001b[0m     \u001b[1;32mif\u001b[0m \u001b[0ms\u001b[0m\u001b[1;33m.\u001b[0m\u001b[0mstartswith\u001b[0m\u001b[1;33m(\u001b[0m\u001b[1;34mu'\\ufeff'\u001b[0m\u001b[1;33m)\u001b[0m\u001b[1;33m:\u001b[0m\u001b[1;33m\u001b[0m\u001b[0m\n\u001b[0;32m    314\u001b[0m         raise JSONDecodeError(\"Unexpected UTF-8 BOM (decode using utf-8-sig)\",\n",
      "\u001b[1;31mTypeError\u001b[0m: the JSON object must be str, not 'bytes'"
     ]
    }
   ],
   "source": [
    "place=[\"台北一\"]\n",
    "crop_num=['LA1']\n",
    "crop_name=['甘藍-初秋']\n",
    "col_name=[\"date\",\"crop_num\",\"crop_name\",\"market_num\",\"market_name\",\"high\",\"medium\",\"low\",\"mean\",\"volume\"] \n",
    "for a in place:\n",
    "    for b in range(0,len(crop_name)):\n",
    "        df=pd.DataFrame(columns=col_name)\n",
    "        skip_num=0\n",
    "        temp_str=\"\"\n",
    "        for j in range(0,1000): \n",
    "            url=\"https://data.coa.gov.tw/Service/OpenData/FromM/FarmTransData.aspx?$top=1000&$skip=\"+str(skip_num)+\"&Crop=\"+urllib.parse.quote(crop_name[b])+\"&StartDate=101.01.01&EndDate=108.02.08&Market=\"+urllib.parse.quote(a) \n",
    "            get = json.loads(urlopen(url).read()) \n",
    "            data = [] \n",
    "            for i in range(0,len(get)):\n",
    "                temp_str=get[0]['交易日期']\n",
    "                if get[i]['作物代號']==crop_num[b]:\n",
    "                    Date=get[i]['交易日期'].split('.')\n",
    "                    year,month,date=Date[0],Date[1],Date[2]\n",
    "                    year=str(int(year)+1911)\n",
    "                    get[i]['交易日期']=year+'/'+month+'/'+date\n",
    "                    data.append({\"date\":get[i]['交易日期'],\"crop_num\":get[i]['作物代號'],\"crop_name\":get[i]['作物名稱'],\"market_num\":get[i]['市場代號'],\"market_name\":get[i]['市場名稱'],\"high\":get[i]['上價'],\"medium\":get[i]['中價'],\"low\":get[i]['下價'],\"mean\":get[i]['平均價'],\"volume\":get[i]['交易量']}) \n",
    "            data.reverse() \n",
    "            df=pd.concat([pd.DataFrame(data), df], ignore_index=True,sort=True)\n",
    "            if len(get)<1000: \n",
    "                break \n",
    "            skip_num=skip_num+1000 \n",
    "            time.sleep(2000.0/1000.0)\n",
    "        path=r\"C:\\Users\\admin\\Desktop\\Project\\data\"+\"\\\\\"+a+\"\\\\\"+\"蔬果\"+\"\\\\\"+crop_name[b]+\".csv\"\n",
    "        df[\"date\"] = pd.to_datetime(df[\"date\"])\n",
    "        df[\"year\"] = df[\"date\"].dt.year\n",
    "        df[\"month\"] = df[\"date\"].dt.month\n",
    "        df[\"day\"] = df[\"date\"].dt.day\n",
    "        df[\"dayofweek\"] = df[\"date\"].dt.dayofweek\n",
    "        #df=df.drop([\"date\"], axis=1)\n",
    "        #df.to_csv(path, encoding='utf_8_sig')\n",
    "        print(df)\n",
    "        time.sleep(3000.0/1000.0)"
   ]
  },
  {
   "cell_type": "code",
   "execution_count": null,
   "metadata": {},
   "outputs": [],
   "source": []
  }
 ],
 "metadata": {
  "kernelspec": {
   "display_name": "Python 3",
   "language": "python",
   "name": "python3"
  },
  "language_info": {
   "codemirror_mode": {
    "name": "ipython",
    "version": 3
   },
   "file_extension": ".py",
   "mimetype": "text/x-python",
   "name": "python",
   "nbconvert_exporter": "python",
   "pygments_lexer": "ipython3",
   "version": "3.5.5"
  }
 },
 "nbformat": 4,
 "nbformat_minor": 2
}
